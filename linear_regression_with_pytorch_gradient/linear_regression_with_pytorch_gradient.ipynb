{
 "cells": [
  {
   "cell_type": "code",
   "execution_count": 1,
   "id": "0b66737e",
   "metadata": {},
   "outputs": [],
   "source": [
    "import numpy as np\n",
    "import torch"
   ]
  },
  {
   "cell_type": "code",
   "execution_count": 2,
   "id": "107de311",
   "metadata": {},
   "outputs": [],
   "source": [
    "def predict(X,w,b):\n",
    "    #x: 1D array\n",
    "    return torch.matmul(X,w)+b\n",
    "\n",
    "def intial_param(x):\n",
    "    \"\"\"\n",
    "    x: one sample\n",
    "    \"\"\"\n",
    "    w = torch.rand_like(x,dtype=float)\n",
    "    b = torch.tensor(0,dtype=float)\n",
    "    return w,b\n",
    "\n",
    "def loss(X,y,w,b):\n",
    "    \"\"\"\n",
    "        X: 2d array\n",
    "        y: 1d array\n",
    "    \"\"\"\n",
    "    m = len(X)\n",
    "    y_hat = predict(X,w,b)\n",
    "    error = (y-y_hat)**2\n",
    "    return sum(error/(2*m))"
   ]
  },
  {
   "cell_type": "code",
   "execution_count": 3,
   "id": "da28ba7b",
   "metadata": {},
   "outputs": [
    {
     "data": {
      "text/plain": [
       "(tensor([0.1861, 0.7093, 0.5846, 0.0843, 0.9225], dtype=torch.float64),\n",
       " tensor(0., dtype=torch.float64))"
      ]
     },
     "execution_count": 3,
     "metadata": {},
     "output_type": "execute_result"
    }
   ],
   "source": [
    "x = np.array([1.,2.,3.,4.,5.])\n",
    "w,b = intial_param(torch.tensor(x))\n",
    "w,b"
   ]
  },
  {
   "cell_type": "code",
   "execution_count": 4,
   "id": "92f408fd",
   "metadata": {},
   "outputs": [
    {
     "data": {
      "text/plain": [
       "tensor(8.3084, dtype=torch.float64)"
      ]
     },
     "execution_count": 4,
     "metadata": {},
     "output_type": "execute_result"
    }
   ],
   "source": [
    "torch.matmul(torch.tensor(x),w)"
   ]
  },
  {
   "cell_type": "code",
   "execution_count": 5,
   "id": "cbf8df7b",
   "metadata": {},
   "outputs": [],
   "source": [
    "X = torch.tensor([[1.,2.,3.,4.,5.],\n",
    "    [6.,7.,8.,9.,10.]],dtype=torch.float64)\n",
    "y = torch.tensor([0,1])"
   ]
  },
  {
   "cell_type": "code",
   "execution_count": 6,
   "id": "cccc4015",
   "metadata": {},
   "outputs": [
    {
     "data": {
      "text/plain": [
       "tensor([ 8.3084, 20.7426], dtype=torch.float64)"
      ]
     },
     "execution_count": 6,
     "metadata": {},
     "output_type": "execute_result"
    }
   ],
   "source": [
    "predict(X,w,b)"
   ]
  },
  {
   "cell_type": "code",
   "execution_count": 7,
   "id": "66ed039f",
   "metadata": {},
   "outputs": [],
   "source": [
    "def gradient(X,y,lr,iteration):\n",
    "    w,b = intial_param(X[0])\n",
    "    w = torch.tensor(w,requires_grad=True)\n",
    "    b = torch.tensor(b,requires_grad=True)\n",
    "    for i in range(iteration):\n",
    "        cost = loss(X,y,w,b)\n",
    "        cost.backward()\n",
    "        w.data = w.data - lr*w.grad.data\n",
    "        b.data = b.data - lr*b.grad.data\n",
    "        print(cost)\n",
    "    return (w,b)"
   ]
  },
  {
   "cell_type": "code",
   "execution_count": 8,
   "id": "7ac2a7fd",
   "metadata": {},
   "outputs": [
    {
     "name": "stdout",
     "output_type": "stream",
     "text": [
      "tensor(90.1673, dtype=torch.float64, grad_fn=<AddBackward0>)\n",
      "tensor(86.7457, dtype=torch.float64, grad_fn=<AddBackward0>)\n",
      "tensor(80.1636, dtype=torch.float64, grad_fn=<AddBackward0>)\n",
      "tensor(70.9233, dtype=torch.float64, grad_fn=<AddBackward0>)\n",
      "tensor(59.7300, dtype=torch.float64, grad_fn=<AddBackward0>)\n",
      "tensor(47.4379, dtype=torch.float64, grad_fn=<AddBackward0>)\n",
      "tensor(34.9850, dtype=torch.float64, grad_fn=<AddBackward0>)\n",
      "tensor(23.3218, dtype=torch.float64, grad_fn=<AddBackward0>)\n",
      "tensor(13.3382, dtype=torch.float64, grad_fn=<AddBackward0>)\n",
      "tensor(5.7962, dtype=torch.float64, grad_fn=<AddBackward0>)\n",
      "tensor(1.2713, dtype=torch.float64, grad_fn=<AddBackward0>)\n",
      "tensor(0.1088, dtype=torch.float64, grad_fn=<AddBackward0>)\n"
     ]
    },
    {
     "name": "stderr",
     "output_type": "stream",
     "text": [
      "C:\\Users\\malak\\AppData\\Local\\Temp\\ipykernel_7992\\2872988648.py:3: UserWarning: To copy construct from a tensor, it is recommended to use sourceTensor.clone().detach() or sourceTensor.clone().detach().requires_grad_(True), rather than torch.tensor(sourceTensor).\n",
      "  w = torch.tensor(w,requires_grad=True)\n",
      "C:\\Users\\malak\\AppData\\Local\\Temp\\ipykernel_7992\\2872988648.py:4: UserWarning: To copy construct from a tensor, it is recommended to use sourceTensor.clone().detach() or sourceTensor.clone().detach().requires_grad_(True), rather than torch.tensor(sourceTensor).\n",
      "  b = torch.tensor(b,requires_grad=True)\n"
     ]
    }
   ],
   "source": [
    "w,b = gradient(X,y,0.0001,12)"
   ]
  },
  {
   "cell_type": "code",
   "execution_count": 9,
   "id": "a2eb1e97",
   "metadata": {},
   "outputs": [
    {
     "data": {
      "text/plain": [
       "tensor(0.0524, dtype=torch.float64, grad_fn=<AddBackward0>)"
      ]
     },
     "execution_count": 9,
     "metadata": {},
     "output_type": "execute_result"
    }
   ],
   "source": [
    "x_test = [0,0.2,1.5,0.5,0.2]\n",
    "test = torch.tensor(x_test,dtype=float)\n",
    "predict(test,w,b)"
   ]
  },
  {
   "cell_type": "code",
   "execution_count": 10,
   "id": "e896f138",
   "metadata": {},
   "outputs": [],
   "source": [
    "import pandas as pd"
   ]
  },
  {
   "cell_type": "code",
   "execution_count": 11,
   "id": "b214642f",
   "metadata": {},
   "outputs": [],
   "source": [
    "data = pd.read_csv('Student_Performance.csv')"
   ]
  },
  {
   "cell_type": "code",
   "execution_count": 12,
   "id": "932619f0",
   "metadata": {},
   "outputs": [
    {
     "data": {
      "text/html": [
       "<div>\n",
       "<style scoped>\n",
       "    .dataframe tbody tr th:only-of-type {\n",
       "        vertical-align: middle;\n",
       "    }\n",
       "\n",
       "    .dataframe tbody tr th {\n",
       "        vertical-align: top;\n",
       "    }\n",
       "\n",
       "    .dataframe thead th {\n",
       "        text-align: right;\n",
       "    }\n",
       "</style>\n",
       "<table border=\"1\" class=\"dataframe\">\n",
       "  <thead>\n",
       "    <tr style=\"text-align: right;\">\n",
       "      <th></th>\n",
       "      <th>Hours Studied</th>\n",
       "      <th>Previous Scores</th>\n",
       "      <th>Extracurricular Activities</th>\n",
       "      <th>Sleep Hours</th>\n",
       "      <th>Sample Question Papers Practiced</th>\n",
       "      <th>Performance Index</th>\n",
       "    </tr>\n",
       "  </thead>\n",
       "  <tbody>\n",
       "    <tr>\n",
       "      <th>0</th>\n",
       "      <td>7</td>\n",
       "      <td>99</td>\n",
       "      <td>Yes</td>\n",
       "      <td>9</td>\n",
       "      <td>1</td>\n",
       "      <td>91.0</td>\n",
       "    </tr>\n",
       "    <tr>\n",
       "      <th>1</th>\n",
       "      <td>4</td>\n",
       "      <td>82</td>\n",
       "      <td>No</td>\n",
       "      <td>4</td>\n",
       "      <td>2</td>\n",
       "      <td>65.0</td>\n",
       "    </tr>\n",
       "    <tr>\n",
       "      <th>2</th>\n",
       "      <td>8</td>\n",
       "      <td>51</td>\n",
       "      <td>Yes</td>\n",
       "      <td>7</td>\n",
       "      <td>2</td>\n",
       "      <td>45.0</td>\n",
       "    </tr>\n",
       "    <tr>\n",
       "      <th>3</th>\n",
       "      <td>5</td>\n",
       "      <td>52</td>\n",
       "      <td>Yes</td>\n",
       "      <td>5</td>\n",
       "      <td>2</td>\n",
       "      <td>36.0</td>\n",
       "    </tr>\n",
       "    <tr>\n",
       "      <th>4</th>\n",
       "      <td>7</td>\n",
       "      <td>75</td>\n",
       "      <td>No</td>\n",
       "      <td>8</td>\n",
       "      <td>5</td>\n",
       "      <td>66.0</td>\n",
       "    </tr>\n",
       "    <tr>\n",
       "      <th>...</th>\n",
       "      <td>...</td>\n",
       "      <td>...</td>\n",
       "      <td>...</td>\n",
       "      <td>...</td>\n",
       "      <td>...</td>\n",
       "      <td>...</td>\n",
       "    </tr>\n",
       "    <tr>\n",
       "      <th>9995</th>\n",
       "      <td>1</td>\n",
       "      <td>49</td>\n",
       "      <td>Yes</td>\n",
       "      <td>4</td>\n",
       "      <td>2</td>\n",
       "      <td>23.0</td>\n",
       "    </tr>\n",
       "    <tr>\n",
       "      <th>9996</th>\n",
       "      <td>7</td>\n",
       "      <td>64</td>\n",
       "      <td>Yes</td>\n",
       "      <td>8</td>\n",
       "      <td>5</td>\n",
       "      <td>58.0</td>\n",
       "    </tr>\n",
       "    <tr>\n",
       "      <th>9997</th>\n",
       "      <td>6</td>\n",
       "      <td>83</td>\n",
       "      <td>Yes</td>\n",
       "      <td>8</td>\n",
       "      <td>5</td>\n",
       "      <td>74.0</td>\n",
       "    </tr>\n",
       "    <tr>\n",
       "      <th>9998</th>\n",
       "      <td>9</td>\n",
       "      <td>97</td>\n",
       "      <td>Yes</td>\n",
       "      <td>7</td>\n",
       "      <td>0</td>\n",
       "      <td>95.0</td>\n",
       "    </tr>\n",
       "    <tr>\n",
       "      <th>9999</th>\n",
       "      <td>7</td>\n",
       "      <td>74</td>\n",
       "      <td>No</td>\n",
       "      <td>8</td>\n",
       "      <td>1</td>\n",
       "      <td>64.0</td>\n",
       "    </tr>\n",
       "  </tbody>\n",
       "</table>\n",
       "<p>10000 rows × 6 columns</p>\n",
       "</div>"
      ],
      "text/plain": [
       "      Hours Studied  Previous Scores Extracurricular Activities  Sleep Hours  \\\n",
       "0                 7               99                        Yes            9   \n",
       "1                 4               82                         No            4   \n",
       "2                 8               51                        Yes            7   \n",
       "3                 5               52                        Yes            5   \n",
       "4                 7               75                         No            8   \n",
       "...             ...              ...                        ...          ...   \n",
       "9995              1               49                        Yes            4   \n",
       "9996              7               64                        Yes            8   \n",
       "9997              6               83                        Yes            8   \n",
       "9998              9               97                        Yes            7   \n",
       "9999              7               74                         No            8   \n",
       "\n",
       "      Sample Question Papers Practiced  Performance Index  \n",
       "0                                    1               91.0  \n",
       "1                                    2               65.0  \n",
       "2                                    2               45.0  \n",
       "3                                    2               36.0  \n",
       "4                                    5               66.0  \n",
       "...                                ...                ...  \n",
       "9995                                 2               23.0  \n",
       "9996                                 5               58.0  \n",
       "9997                                 5               74.0  \n",
       "9998                                 0               95.0  \n",
       "9999                                 1               64.0  \n",
       "\n",
       "[10000 rows x 6 columns]"
      ]
     },
     "execution_count": 12,
     "metadata": {},
     "output_type": "execute_result"
    }
   ],
   "source": [
    "data"
   ]
  },
  {
   "cell_type": "code",
   "execution_count": 13,
   "id": "abc17188",
   "metadata": {},
   "outputs": [],
   "source": [
    "data['Extracurricular Activities'] = data['Extracurricular Activities'].map({'Yes': 1, 'No': 0})"
   ]
  },
  {
   "cell_type": "code",
   "execution_count": 14,
   "id": "a114e0d5",
   "metadata": {},
   "outputs": [],
   "source": [
    "X_train = data.drop(columns='Performance Index')\n",
    "y_train = data['Performance Index'] "
   ]
  },
  {
   "cell_type": "code",
   "execution_count": 15,
   "id": "bb5eb408",
   "metadata": {},
   "outputs": [],
   "source": [
    "X_train_tensor = torch.tensor(X_train.values,dtype=float)\n",
    "y_train_tensor = torch.tensor(y_train.values)"
   ]
  },
  {
   "cell_type": "code",
   "execution_count": 21,
   "id": "9857f9a5",
   "metadata": {},
   "outputs": [],
   "source": [
    "from sklearn.model_selection import train_test_split\n",
    "X_train, X_test, y_train, y_test = train_test_split(\n",
    "    X_train_tensor, y_train_tensor, test_size=0.33, random_state=42)"
   ]
  },
  {
   "cell_type": "code",
   "execution_count": 22,
   "id": "641cbb7a",
   "metadata": {},
   "outputs": [
    {
     "name": "stderr",
     "output_type": "stream",
     "text": [
      "C:\\Users\\malak\\AppData\\Local\\Temp\\ipykernel_7992\\2872988648.py:3: UserWarning: To copy construct from a tensor, it is recommended to use sourceTensor.clone().detach() or sourceTensor.clone().detach().requires_grad_(True), rather than torch.tensor(sourceTensor).\n",
      "  w = torch.tensor(w,requires_grad=True)\n",
      "C:\\Users\\malak\\AppData\\Local\\Temp\\ipykernel_7992\\2872988648.py:4: UserWarning: To copy construct from a tensor, it is recommended to use sourceTensor.clone().detach() or sourceTensor.clone().detach().requires_grad_(True), rather than torch.tensor(sourceTensor).\n",
      "  b = torch.tensor(b,requires_grad=True)\n"
     ]
    },
    {
     "name": "stdout",
     "output_type": "stream",
     "text": [
      "tensor(390.6284, dtype=torch.float64, grad_fn=<AddBackward0>)\n",
      "tensor(117.2769, dtype=torch.float64, grad_fn=<AddBackward0>)\n",
      "tensor(67.5974, dtype=torch.float64, grad_fn=<AddBackward0>)\n",
      "tensor(331.8499, dtype=torch.float64, grad_fn=<AddBackward0>)\n",
      "tensor(429.4021, dtype=torch.float64, grad_fn=<AddBackward0>)\n",
      "tensor(182.7115, dtype=torch.float64, grad_fn=<AddBackward0>)\n",
      "tensor(40.1685, dtype=torch.float64, grad_fn=<AddBackward0>)\n"
     ]
    }
   ],
   "source": [
    "w,b = gradient(X_train,y_train,0.0001,7)"
   ]
  },
  {
   "cell_type": "code",
   "execution_count": 24,
   "id": "f12b8427",
   "metadata": {},
   "outputs": [
    {
     "data": {
      "text/plain": [
       "tensor(255.4437, dtype=torch.float64, grad_fn=<AddBackward0>)"
      ]
     },
     "execution_count": 24,
     "metadata": {},
     "output_type": "execute_result"
    }
   ],
   "source": [
    "loss(X_test,y_test,w,b)"
   ]
  }
 ],
 "metadata": {
  "kernelspec": {
   "display_name": "Python 3 (ipykernel)",
   "language": "python",
   "name": "python3"
  },
  "language_info": {
   "codemirror_mode": {
    "name": "ipython",
    "version": 3
   },
   "file_extension": ".py",
   "mimetype": "text/x-python",
   "name": "python",
   "nbconvert_exporter": "python",
   "pygments_lexer": "ipython3",
   "version": "3.9.12"
  }
 },
 "nbformat": 4,
 "nbformat_minor": 5
}
