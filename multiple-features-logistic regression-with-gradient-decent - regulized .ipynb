{
 "cells": [
  {
   "cell_type": "markdown",
   "metadata": {},
   "source": [
    "# Imports"
   ]
  },
  {
   "cell_type": "code",
   "execution_count": 1,
   "metadata": {},
   "outputs": [],
   "source": [
    "import numpy as np\n",
    "import pandas as pd\n",
    "import matplotlib.pyplot as plt"
   ]
  },
  {
   "cell_type": "markdown",
   "metadata": {},
   "source": [
    "# load data"
   ]
  },
  {
   "cell_type": "markdown",
   "metadata": {},
   "source": []
  },
  {
   "cell_type": "code",
   "execution_count": 38,
   "metadata": {},
   "outputs": [],
   "source": [
    "X_train = np.array([[2104, 5, 1, 45], [1416, 3, 2, 40], [852, 2, 1, 35]])\n",
    "y_train = np.array([460, 232, 178])\n",
    "b_init = 785.1811367994083\n",
    "w_init = np.array([ 0.39133535, 18.75376741, -53.36032453, -26.42131618])"
   ]
  },
  {
   "cell_type": "code",
   "execution_count": 3,
   "metadata": {},
   "outputs": [],
   "source": [
    "# function to intialize the weights and bias randomly\n",
    "def initialize(dim,zeros=False):\n",
    "    if(zeros):\n",
    "        b = 0\n",
    "        w = np.zeros(dim)\n",
    "    \n",
    "    else:\n",
    "        b = np.random.random()\n",
    "        w = np.random.rand(dim)\n",
    "    return b, w"
   ]
  },
  {
   "cell_type": "code",
   "execution_count": 4,
   "metadata": {},
   "outputs": [],
   "source": [
    "# function to predict the output\n",
    "def predict_y(x,w,b):\n",
    "    return  np.dot(x,w) + b\n"
   ]
  },
  {
   "cell_type": "code",
   "execution_count": 5,
   "metadata": {},
   "outputs": [],
   "source": [
    "def compute_cost_reg(x, y, w, b,lambda_):\n",
    "   \n",
    "    m,n = x.shape \n",
    "    cost = 0\n",
    "    \n",
    "    for i in range(m):\n",
    "        f_wb =  predict_y(x[i],w,b)\n",
    "        cost = cost + (f_wb - y[i])**2\n",
    "    cost = cost / (2 * m)\n",
    "\n",
    "    reg_cost = 0\n",
    "    for j in range(n):\n",
    "        reg_cost += (w[j]**2)                                          #scalar\n",
    "    reg_cost = (lambda_/(2*m)) * reg_cost\n",
    "    \n",
    "    total_cost = cost + reg_cost\n",
    "    return total_cost"
   ]
  },
  {
   "cell_type": "code",
   "execution_count": 6,
   "metadata": {},
   "outputs": [],
   "source": [
    "def compute_gradient_reg(x,y,w,b,lambda_):\n",
    "    m,n = x.shape    \n",
    "    dj_dw = np.zeros(n)\n",
    "    dj_db = 0.  \n",
    "    \n",
    "    for i in range(m):  \n",
    "        err = predict_y(x[i],w,b) - y[i]\n",
    "        dj_db += err\n",
    "        for j in range(n):\n",
    "            dj_dw[j] += err * x[i][j]\n",
    "    for j in range(n):\n",
    "        dj_dw[j] += (lambda_ * w[j] / m)\n",
    "    dj_dw = dj_dw / m \n",
    "    dj_db = dj_db / m\n",
    "    # d_w = d_w / n\n",
    "    # d_b = d_b /  n\n",
    "    return dj_dw, dj_db"
   ]
  },
  {
   "cell_type": "code",
   "execution_count": 7,
   "metadata": {},
   "outputs": [],
   "source": [
    "def gradient_descent_reg(x,y,w_in,b_in,iter,lr,lambda_):\n",
    "    w = np.zeros_like(w_in)\n",
    "    b = 0\n",
    "    j_history = []\n",
    "    for i in range(iter): \n",
    "        d_w, d_b = compute_gradient_reg(x,y,w,b,lambda_)\n",
    "        w = w - lr * d_w\n",
    "        b = b - lr * d_b\n",
    "        j_history.append(compute_cost_reg(x,y,w,b,lambda_))\n",
    "    return w,b,j_history"
   ]
  },
  {
   "cell_type": "code",
   "execution_count": 39,
   "metadata": {},
   "outputs": [
    {
     "data": {
      "text/plain": [
       "array([[2104,    5,    1,   45],\n",
       "       [1416,    3,    2,   40],\n",
       "       [ 852,    2,    1,   35]])"
      ]
     },
     "execution_count": 39,
     "metadata": {},
     "output_type": "execute_result"
    }
   ],
   "source": [
    "X_train"
   ]
  },
  {
   "cell_type": "code",
   "execution_count": 48,
   "metadata": {},
   "outputs": [
    {
     "name": "stdout",
     "output_type": "stream",
     "text": [
      "613.7468436160045\n"
     ]
    },
    {
     "data": {
      "image/png": "[encoded data removed]",
      "text/plain": [
       "<Figure size 640x480 with 1 Axes>"
      ]
     },
     "metadata": {},
     "output_type": "display_data"
    }
   ],
   "source": [
    "iterations = 182000\n",
    "alpha = 5.0e-7\n",
    "lambda_ = 100\n",
    "dim = len(X_train[0])\n",
    "b,w = initialize(dim)\n",
    "w,b,j = gradient_descent_reg(X_train,y_train,w_in=w,b_in=b,iter=iterations,lr=alpha,lambda_=lambda_)\n",
    "plt.plot(list(range(iterations)),j)\n",
    "print(j[-1])"
   ]
  }
 ],
 "metadata": {
  "kernelspec": {
   "display_name": "Python 3",
   "language": "python",
   "name": "python3"
  },
  "language_info": {
   "codemirror_mode": {
    "name": "ipython",
    "version": 3
   },
   "file_extension": ".py",
   "mimetype": "text/x-python",
   "name": "python",
   "nbconvert_exporter": "python",
   "pygments_lexer": "ipython3",
   "version": "3.12.2"
  }
 },
 "nbformat": 4,
 "nbformat_minor": 2
}
